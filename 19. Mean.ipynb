{
 "cells": [
  {
   "cell_type": "markdown",
   "id": "ca0cb458",
   "metadata": {},
   "source": [
    "### 19. Write a function called ‘calculate_mean’ that takes a list of numbers as input and returns the mean (average) of the numbers. The function should calculate the mean using the sum of the numbers divided by the total count."
   ]
  },
  {
   "cell_type": "code",
   "execution_count": 5,
   "id": "74342543",
   "metadata": {},
   "outputs": [
    {
     "name": "stdout",
     "output_type": "stream",
     "text": [
      "Mean is: 20.0\n"
     ]
    }
   ],
   "source": [
    "def calculate_mean(l):\n",
    "    tot = sum(l)\n",
    "    c = len(l)\n",
    "    mean = tot / c\n",
    "    return mean\n",
    "\n",
    "l = [10, 15, 20, 25, 30]\n",
    "mean = calculate_mean(l)\n",
    "print(\"Mean is:\", mean)"
   ]
  },
  {
   "cell_type": "code",
   "execution_count": 8,
   "id": "d48d617a",
   "metadata": {},
   "outputs": [
    {
     "name": "stdout",
     "output_type": "stream",
     "text": [
      "Mean is: 5.5\n"
     ]
    }
   ],
   "source": [
    "l1 = [1,2,3,4,5,6,7,8,9,10]\n",
    "mean = calculate_mean(l1)\n",
    "print(\"Mean is:\",mean)"
   ]
  },
  {
   "cell_type": "code",
   "execution_count": null,
   "id": "891ad571",
   "metadata": {},
   "outputs": [],
   "source": []
  }
 ],
 "metadata": {
  "kernelspec": {
   "display_name": "Python 3 (ipykernel)",
   "language": "python",
   "name": "python3"
  },
  "language_info": {
   "codemirror_mode": {
    "name": "ipython",
    "version": 3
   },
   "file_extension": ".py",
   "mimetype": "text/x-python",
   "name": "python",
   "nbconvert_exporter": "python",
   "pygments_lexer": "ipython3",
   "version": "3.10.9"
  }
 },
 "nbformat": 4,
 "nbformat_minor": 5
}
