{
 "cells": [
  {
   "cell_type": "markdown",
   "id": "02f4aa96",
   "metadata": {},
   "source": [
    "1. **Merge Intervals**\n",
    "\n",
    "Given an array of `intervals` where `intervals[i] = [starti, endi]`, merge all overlapping intervals, and return *an array of the non-overlapping intervals that cover all the intervals in the input*.\n",
    "\n",
    "Example 1:\n",
    "    \n",
    "Input: intervals = [[1,3],[2,6],[8,10],[15,18]]\n",
    "Output: [[1,6],[8,10],[15,18]]\n",
    "Explanation: Since intervals [1,3] and [2,6] overlap, merge them into [1,6].\n",
    "\n"
   ]
  },
  {
   "cell_type": "code",
   "execution_count": 1,
   "id": "a76013e0",
   "metadata": {},
   "outputs": [
    {
     "name": "stdout",
     "output_type": "stream",
     "text": [
      "[[1, 6], [8, 10], [15, 18]]\n"
     ]
    }
   ],
   "source": [
    "def merge_intervals(intervals):\n",
    "    # Sort the intervals based on their start times\n",
    "    intervals.sort(key=lambda x: x[0])\n",
    "    \n",
    "    merged_intervals = []\n",
    "    \n",
    "    # Iterate through each interval\n",
    "    for interval in intervals:\n",
    "        # If the result list is empty or the current interval does not overlap with the last interval\n",
    "        if not merged_intervals or interval[0] > merged_intervals[-1][1]:\n",
    "            merged_intervals.append(interval)\n",
    "        else:\n",
    "            # Update the end time of the last interval\n",
    "            merged_intervals[-1][1] = max(merged_intervals[-1][1], interval[1])\n",
    "    \n",
    "    return merged_intervals\n",
    "\n",
    "intervals = [[1,3],[2,6],[8,10],[15,18]]\n",
    "result = merge_intervals(intervals)\n",
    "print(result)\n"
   ]
  },
  {
   "cell_type": "markdown",
   "id": "dda5c342",
   "metadata": {},
   "source": [
    "2. **Sort Colors**\n",
    "\n",
    "Given an array `nums` with `n` objects colored red, white, or blue, sort them **[in-place](https://en.wikipedia.org/wiki/In-place_algorithm)** so that objects of the same color are adjacent, with the colors in the order red, white, and blue.\n",
    "\n",
    "We will use the integers `0`, `1`, and `2` to represent the color red, white, and blue, respectively.\n",
    "\n",
    "You must solve this problem without using the library's sort function.\n",
    "\n",
    "**Example 1:**\n",
    "\n",
    "Input: nums = [2,0,2,1,1,0]\n",
    "Output: [0,0,1,1,2,2]\n"
   ]
  },
  {
   "cell_type": "code",
   "execution_count": 3,
   "id": "52f7731f",
   "metadata": {},
   "outputs": [
    {
     "name": "stdout",
     "output_type": "stream",
     "text": [
      "[0, 0, 1, 1, 2, 2]\n",
      "[0, 1, 2]\n"
     ]
    }
   ],
   "source": [
    "def sortColors(nums):\n",
    "    low = mid = 0\n",
    "    high = len(nums) - 1\n",
    "    \n",
    "    while mid <= high:\n",
    "        if nums[mid] == 0:\n",
    "            nums[mid], nums[low] = nums[low], nums[mid]\n",
    "            low += 1\n",
    "            mid += 1\n",
    "        elif nums[mid] == 1:\n",
    "            mid += 1\n",
    "        else:\n",
    "            nums[mid], nums[high] = nums[high], nums[mid]\n",
    "            high -= 1\n",
    "    \n",
    "    return nums\n",
    "\n",
    "nums = [2, 0, 2, 1, 1, 0]\n",
    "result = sortColors(nums)\n",
    "print(result)\n",
    "\n",
    "nums = [2,0,1]\n",
    "result = sortColors(nums)\n",
    "print(result)\n",
    "\n"
   ]
  },
  {
   "cell_type": "markdown",
   "id": "a7f4465b",
   "metadata": {},
   "source": [
    "3. **First Bad Version Solution**\n",
    "\n",
    "You are a product manager and currently leading a team to develop a new product. Unfortunately, the latest version of your product fails the quality check. Since each version is developed based on the previous version, all the versions after a bad version are also bad.\n",
    "\n",
    "Suppose you have `n` versions `[1, 2, ..., n]` and you want to find out the first bad one, which causes all the following ones to be bad.\n",
    "\n",
    "You are given an API `bool isBadVersion(version)` which returns whether `version` is bad. Implement a function to find the first bad version. You should minimize the number of calls to the API.\n",
    "\n",
    "**Example 1:**\n",
    "\n",
    "Input: n = 5, bad = 4\n",
    "Output: 4\n",
    "Explanation:\n",
    "call isBadVersion(3) -> false\n",
    "call isBadVersion(5) -> true\n",
    "call isBadVersion(4) -> true\n",
    "Then 4 is the first bad version.\n",
    "\n"
   ]
  },
  {
   "cell_type": "code",
   "execution_count": 5,
   "id": "14e7ec1f",
   "metadata": {},
   "outputs": [
    {
     "name": "stdout",
     "output_type": "stream",
     "text": [
      "4\n",
      "1\n"
     ]
    }
   ],
   "source": [
    "def isBadVersion(version):\n",
    "    return version >= 4\n",
    "\n",
    "def firstBadVersion(n):\n",
    "    left = 1\n",
    "    right = n\n",
    "    \n",
    "    while left < right:\n",
    "        mid = left + (right - left) // 2\n",
    "        \n",
    "        if isBadVersion(mid):\n",
    "            right = mid\n",
    "        else:\n",
    "            left = mid + 1\n",
    "    \n",
    "    return left\n",
    "\n",
    "n = 5\n",
    "bad = 4\n",
    "result = firstBadVersion(n)\n",
    "print(result)\n",
    "\n",
    "n = 1\n",
    "bad = 1\n",
    "result = firstBadVersion(n)\n",
    "print(result)\n"
   ]
  },
  {
   "cell_type": "markdown",
   "id": "d53c7ace",
   "metadata": {},
   "source": [
    "4. **Maximum Gap**\n",
    "\n",
    "Given an integer array `nums`, return *the maximum difference between two successive elements in its sorted form*. If the array contains less than two elements, return `0`.\n",
    "\n",
    "You must write an algorithm that runs in linear time and uses linear extra space.\n",
    "\n",
    "**Example 1:**\n",
    "\n",
    "Input: nums = [3,6,9,1]\n",
    "Output: 3\n",
    "Explanation: The sorted form of the array is [1,3,6,9], either (3,6) or (6,9) has the maximum difference 3.\n"
   ]
  },
  {
   "cell_type": "code",
   "execution_count": 6,
   "id": "ba343833",
   "metadata": {},
   "outputs": [
    {
     "name": "stdout",
     "output_type": "stream",
     "text": [
      "3\n"
     ]
    }
   ],
   "source": [
    "def maximumGap(nums):\n",
    "    if len(nums) < 2:\n",
    "        return 0\n",
    "    \n",
    "    max_num = max(nums)\n",
    "    exp = 1\n",
    "    buckets = [[] for _ in range(10)]\n",
    "    \n",
    "    while max_num // exp > 0:\n",
    "        for num in nums:\n",
    "            buckets[(num // exp) % 10].append(num)\n",
    "        \n",
    "        nums = [num for bucket in buckets for num in bucket]\n",
    "        buckets = [[] for _ in range(10)]\n",
    "        exp *= 10\n",
    "    \n",
    "    max_gap = 0\n",
    "    for i in range(1, len(nums)):\n",
    "        max_gap = max(max_gap, nums[i] - nums[i - 1])\n",
    "    \n",
    "    return max_gap\n",
    "\n",
    "\n",
    "nums = [3, 6, 9, 1]\n",
    "result = maximumGap(nums)\n",
    "print(result)\n"
   ]
  },
  {
   "cell_type": "markdown",
   "id": "a4054a0d",
   "metadata": {},
   "source": [
    "5. **Contains Duplicate**\n",
    "\n",
    "Given an integer array `nums`, return `true` if any value appears **at least twice** in the array, and return `false` if every element is distinct.\n",
    "\n",
    "**Example 1:**\n",
    "\n",
    "Input: nums = [1,2,3,1]\n",
    "Output: true\n",
    "\n"
   ]
  },
  {
   "cell_type": "code",
   "execution_count": 7,
   "id": "34d34fcd",
   "metadata": {},
   "outputs": [
    {
     "name": "stdout",
     "output_type": "stream",
     "text": [
      "True\n"
     ]
    }
   ],
   "source": [
    "def containsDuplicate(nums):\n",
    "    num_set = set()\n",
    "    \n",
    "    for num in nums:\n",
    "        if num in num_set:\n",
    "            return True\n",
    "        else:\n",
    "            num_set.add(num)\n",
    "    \n",
    "    return False\n",
    "\n",
    "nums = [1, 2, 3, 1]\n",
    "result = containsDuplicate(nums)\n",
    "print(result)\n"
   ]
  },
  {
   "cell_type": "markdown",
   "id": "24015ad9",
   "metadata": {},
   "source": [
    "6. **Minimum Number of Arrows to Burst Balloons**\n",
    "\n",
    "There are some spherical balloons taped onto a flat wall that represents the XY-plane. The balloons are represented as a 2D integer array `points` where `points[i] = [xstart, xend]` denotes a balloon whose **horizontal diameter** stretches between `xstart` and `xend`. You do not know the exact y-coordinates of the balloons.\n",
    "\n",
    "Arrows can be shot up **directly vertically** (in the positive y-direction) from different points along the x-axis. A balloon with `xstart` and `xend` is **burst** by an arrow shot at `x` if `xstart <= x <= xend`. There is **no limit** to the number of arrows that can be shot. A shot arrow keeps traveling up infinitely, bursting any balloons in its path.\n",
    "\n",
    "Given the array `points`, return *the **minimum** number of arrows that must be shot to burst all balloons*.\n",
    "\n",
    "**Example 1:**\n",
    "\n",
    "Input: points = [[10,16],[2,8],[1,6],[7,12]]\n",
    "Output: 2\n",
    "Explanation: The balloons can be burst by 2 arrows:\n",
    "- Shoot an arrow at x = 6, bursting the balloons [2,8] and [1,6].\n",
    "- Shoot an arrow at x = 11, bursting the balloons [10,16] and [7,12].\n"
   ]
  },
  {
   "cell_type": "code",
   "execution_count": 8,
   "id": "a478bfea",
   "metadata": {},
   "outputs": [
    {
     "name": "stdout",
     "output_type": "stream",
     "text": [
      "2\n"
     ]
    }
   ],
   "source": [
    "def findMinArrowShots(points):\n",
    "    if len(points) == 0:\n",
    "        return 0\n",
    "    \n",
    "    points.sort(key=lambda x: x[1])\n",
    "    prev_end = points[0][1]\n",
    "    arrow_count = 1\n",
    "    \n",
    "    for i in range(1, len(points)):\n",
    "        if points[i][0] > prev_end:\n",
    "            arrow_count += 1\n",
    "            prev_end = points[i][1]\n",
    "        else:\n",
    "            prev_end = min(prev_end, points[i][1])\n",
    "    \n",
    "    return arrow_count\n",
    "\n",
    "\n",
    "points = [[10, 16], [2, 8], [1, 6], [7, 12]]\n",
    "result = findMinArrowShots(points)\n",
    "print(result)\n"
   ]
  },
  {
   "cell_type": "markdown",
   "id": "c7e2e374",
   "metadata": {},
   "source": [
    "7. **Longest Increasing Subsequence**\n",
    "\n",
    "Given an integer array `nums`, return *the length of the longest **strictly increasing***\n",
    "\n",
    "***subsequence***\n",
    "\n",
    ".\n",
    "\n",
    "**Example 1:**\n",
    "\n",
    "Input: nums = [10,9,2,5,3,7,101,18]\n",
    "Output: 4\n",
    "Explanation: The longest increasing subsequence is [2,3,7,101], therefore the length is 4.\n"
   ]
  },
  {
   "cell_type": "code",
   "execution_count": 9,
   "id": "f1f6f1f7",
   "metadata": {},
   "outputs": [
    {
     "name": "stdout",
     "output_type": "stream",
     "text": [
      "4\n"
     ]
    }
   ],
   "source": [
    "def lengthOfLIS(nums):\n",
    "    n = len(nums)\n",
    "    dp = [1] * n\n",
    "    \n",
    "    for i in range(1, n):\n",
    "        for j in range(i):\n",
    "            if nums[i] > nums[j]:\n",
    "                dp[i] = max(dp[i], dp[j] + 1)\n",
    "    \n",
    "    return max(dp)\n",
    "\n",
    "nums = [10, 9, 2, 5, 3, 7, 101, 18]\n",
    "result = lengthOfLIS(nums)\n",
    "print(result)\n"
   ]
  },
  {
   "cell_type": "markdown",
   "id": "31c1d91b",
   "metadata": {},
   "source": [
    "8. **132 Pattern**\n",
    "\n",
    "Given an array of `n` integers `nums`, a **132 pattern** is a subsequence of three integers `nums[i]`, `nums[j]` and `nums[k]` such that `i < j < k` and `nums[i] < nums[k] < nums[j]`.\n",
    "\n",
    "Return `true` *if there is a **132 pattern** in* `nums`*, otherwise, return* `false`*.*\n",
    "\n",
    "**Example 1:**\n",
    "\n",
    "Input: nums = [1,2,3,4]\n",
    "Output: false\n",
    "Explanation: There is no 132 pattern in the sequence.\n"
   ]
  },
  {
   "cell_type": "code",
   "execution_count": 11,
   "id": "d8ad5b3f",
   "metadata": {},
   "outputs": [
    {
     "name": "stdout",
     "output_type": "stream",
     "text": [
      "False\n",
      "True\n"
     ]
    }
   ],
   "source": [
    "def find132pattern(nums):\n",
    "    if len(nums) < 3:\n",
    "        return False\n",
    "    \n",
    "    stack = []\n",
    "    numsk = float('-inf')\n",
    "    \n",
    "    for i in range(len(nums)-1, -1, -1):\n",
    "        if nums[i] < numsk:\n",
    "            return True\n",
    "        while stack and nums[i] > stack[-1]:\n",
    "            numsk = stack[-1]\n",
    "            stack.pop()\n",
    "        stack.append(nums[i])\n",
    "    \n",
    "    return False\n",
    "\n",
    "nums = [1, 2, 3, 4]\n",
    "result = find132pattern(nums)\n",
    "print(result)\n",
    "\n",
    "nums = [3,1,4,2]\n",
    "result = find132pattern(nums)\n",
    "print(result)\n",
    "\n"
   ]
  },
  {
   "cell_type": "code",
   "execution_count": null,
   "id": "7a9cdbac",
   "metadata": {},
   "outputs": [],
   "source": []
  }
 ],
 "metadata": {
  "kernelspec": {
   "display_name": "Python 3 (ipykernel)",
   "language": "python",
   "name": "python3"
  },
  "language_info": {
   "codemirror_mode": {
    "name": "ipython",
    "version": 3
   },
   "file_extension": ".py",
   "mimetype": "text/x-python",
   "name": "python",
   "nbconvert_exporter": "python",
   "pygments_lexer": "ipython3",
   "version": "3.10.9"
  }
 },
 "nbformat": 4,
 "nbformat_minor": 5
}
