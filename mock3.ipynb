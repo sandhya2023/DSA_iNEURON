{
 "cells": [
  {
   "cell_type": "code",
   "execution_count": null,
   "id": "cd6442ba",
   "metadata": {},
   "outputs": [],
   "source": [
    "#1 Implement a stack using a list in Python. Include the necessary methods such as push, pop, and isEmpty."
   ]
  },
  {
   "cell_type": "code",
   "execution_count": 2,
   "id": "d9a111b6",
   "metadata": {},
   "outputs": [
    {
     "name": "stdout",
     "output_type": "stream",
     "text": [
      "Enter 'push' to add an item to the stack, 'pop' to remove an item from the stack, or 'quit' to exit.\n",
      "push\n",
      "Enter the item to push onto the stack: 2\n",
      "Enter 'push' to add an item to the stack, 'pop' to remove an item from the stack, or 'quit' to exit.\n",
      "push\n",
      "Enter the item to push onto the stack: 3\n",
      "Enter 'push' to add an item to the stack, 'pop' to remove an item from the stack, or 'quit' to exit.\n",
      "push\n",
      "Enter the item to push onto the stack: 8\n",
      "Enter 'push' to add an item to the stack, 'pop' to remove an item from the stack, or 'quit' to exit.\n",
      "pop\n",
      "8\n",
      "Enter 'push' to add an item to the stack, 'pop' to remove an item from the stack, or 'quit' to exit.\n",
      "exit\n",
      "Enter 'push' to add an item to the stack, 'pop' to remove an item from the stack, or 'quit' to exit.\n",
      "quit\n"
     ]
    }
   ],
   "source": [
    "class Stack:\n",
    "    def __init__(self):\n",
    "        self.items = []\n",
    "\n",
    "    def push(self, item):\n",
    "        self.items.append(item)\n",
    "\n",
    "    def pop(self):\n",
    "        return self.items.pop()\n",
    "\n",
    "    def isEmpty(self):\n",
    "        return len(self.items) == 0\n",
    "\n",
    "def main():\n",
    "    stack = Stack()\n",
    "    while True:\n",
    "        print(\"Enter 'push' to add an item to the stack, 'pop' to remove an item from the stack, or 'quit' to exit.\")\n",
    "        command = input()\n",
    "        if command == \"push\":\n",
    "            item = input(\"Enter the item to push onto the stack: \")\n",
    "            stack.push(item)\n",
    "        elif command == \"pop\":\n",
    "            print(stack.pop())\n",
    "        elif command == \"quit\":\n",
    "            break\n",
    "\n",
    "if __name__ == \"__main__\":\n",
    "    main()"
   ]
  },
  {
   "cell_type": "code",
   "execution_count": null,
   "id": "3f9c787e",
   "metadata": {},
   "outputs": [],
   "source": [
    "#2 Implement a queue using a list in Python. Include the necessary methods such as enqueue, dequeue, and isEmpty."
   ]
  },
  {
   "cell_type": "code",
   "execution_count": 3,
   "id": "0dda6337",
   "metadata": {},
   "outputs": [
    {
     "name": "stdout",
     "output_type": "stream",
     "text": [
      "Enter 'enqueue' to add an item to the queue, 'dequeue' to remove an item from the queue, or 'quit' to exit.\n",
      "enqueue\n",
      "Enter the item to enqueue onto the queue: 45\n",
      "Enter 'enqueue' to add an item to the queue, 'dequeue' to remove an item from the queue, or 'quit' to exit.\n",
      "enqueue\n",
      "Enter the item to enqueue onto the queue: 67\n",
      "Enter 'enqueue' to add an item to the queue, 'dequeue' to remove an item from the queue, or 'quit' to exit.\n",
      "dequeue\n",
      "45\n",
      "Enter 'enqueue' to add an item to the queue, 'dequeue' to remove an item from the queue, or 'quit' to exit.\n",
      "quit\n"
     ]
    }
   ],
   "source": [
    "class Queue:\n",
    "    def __init__(self):\n",
    "        self.items = []\n",
    "\n",
    "    def enqueue(self, item):\n",
    "        self.items.append(item)\n",
    "\n",
    "    def dequeue(self):\n",
    "        return self.items.pop(0)\n",
    "\n",
    "    def isEmpty(self):\n",
    "        return len(self.items) == 0\n",
    "\n",
    "def main():\n",
    "    queue = Queue()\n",
    "    while True:\n",
    "        print(\"Enter 'enqueue' to add an item to the queue, 'dequeue' to remove an item from the queue, or 'quit' to exit.\")\n",
    "        command = input()\n",
    "        if command == \"enqueue\":\n",
    "            item = input(\"Enter the item to enqueue onto the queue: \")\n",
    "            queue.enqueue(item)\n",
    "        elif command == \"dequeue\":\n",
    "            print(queue.dequeue())\n",
    "        elif command == \"quit\":\n",
    "            break\n",
    "\n",
    "if __name__ == \"__main__\":\n",
    "    main()"
   ]
  },
  {
   "cell_type": "code",
   "execution_count": null,
   "id": "0001cb20",
   "metadata": {},
   "outputs": [],
   "source": []
  }
 ],
 "metadata": {
  "kernelspec": {
   "display_name": "Python 3 (ipykernel)",
   "language": "python",
   "name": "python3"
  },
  "language_info": {
   "codemirror_mode": {
    "name": "ipython",
    "version": 3
   },
   "file_extension": ".py",
   "mimetype": "text/x-python",
   "name": "python",
   "nbconvert_exporter": "python",
   "pygments_lexer": "ipython3",
   "version": "3.9.12"
  }
 },
 "nbformat": 4,
 "nbformat_minor": 5
}
