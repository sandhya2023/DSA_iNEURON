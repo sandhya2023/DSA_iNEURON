{
 "cells": [
  {
   "cell_type": "code",
   "execution_count": null,
   "id": "acb93cf0-ee5f-4f3f-8aac-db5628ff8cb0",
   "metadata": {},
   "outputs": [],
   "source": [
    "Q1. Given an integer array nums, move all 0's to the end of it while maintaining the relative order of the non-zero elements."
   ]
  },
  {
   "cell_type": "code",
   "execution_count": 4,
   "id": "1f552616-f418-426f-ad75-e90c150517db",
   "metadata": {},
   "outputs": [
    {
     "name": "stdin",
     "output_type": "stream",
     "text": [
      "Enter the integer array (space-separated):  0 1 0 3 12\n"
     ]
    },
    {
     "name": "stdout",
     "output_type": "stream",
     "text": [
      "Modified array: [1, 3, 12, 0, 0]\n"
     ]
    }
   ],
   "source": [
    "def moveZeroes(nums):\n",
    "    left = 0\n",
    "    right = 0\n",
    "    while right < len(nums):\n",
    "        if nums[right] != 0:\n",
    "            nums[left], nums[right] = nums[right], nums[left]\n",
    "            left += 1\n",
    "        right += 1\n",
    "input_str = input(\"Enter the integer array (space-separated): \")\n",
    "nums = list(map(int, input_str.split()))\n",
    "moveZeroes(nums)\n",
    "print(\"Modified array:\", nums)"
   ]
  },
  {
   "cell_type": "code",
   "execution_count": null,
   "id": "bc957dd4-9285-4b61-b22c-5b9420bc3d2b",
   "metadata": {},
   "outputs": [],
   "source": [
    "Q2."
   ]
  }
 ],
 "metadata": {
  "kernelspec": {
   "display_name": "Python 3 (ipykernel)",
   "language": "python",
   "name": "python3"
  },
  "language_info": {
   "codemirror_mode": {
    "name": "ipython",
    "version": 3
   },
   "file_extension": ".py",
   "mimetype": "text/x-python",
   "name": "python",
   "nbconvert_exporter": "python",
   "pygments_lexer": "ipython3",
   "version": "3.10.6"
  }
 },
 "nbformat": 4,
 "nbformat_minor": 5
}
