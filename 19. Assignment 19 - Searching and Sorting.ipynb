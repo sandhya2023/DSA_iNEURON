{
 "cells": [
  {
   "cell_type": "markdown",
   "id": "bd7283bd",
   "metadata": {},
   "source": [
    "1. **Merge k Sorted Lists**\n",
    "\n",
    "You are given an array of `k` linked-lists `lists`, each linked-list is sorted in ascending order.\n",
    "\n",
    "*Merge all the linked-lists into one sorted linked-list and return it.*\n",
    "\n",
    "**Example 1:**\n",
    "\n",
    "Input: lists = [[1,4,5],[1,3,4],[2,6]]\n",
    "Output: [1,1,2,3,4,4,5,6]\n",
    "Explanation: The linked-lists are:\n",
    "[\n",
    "  1->4->5,\n",
    "  1->3->4,\n",
    "  2->6\n",
    "]\n",
    "merging them into one sorted list:\n",
    "1->1->2->3->4->4->5->6\n"
   ]
  },
  {
   "cell_type": "code",
   "execution_count": 1,
   "id": "ae27f3fa",
   "metadata": {},
   "outputs": [
    {
     "name": "stdout",
     "output_type": "stream",
     "text": [
      "1->1->2->3->4->4->5->6->"
     ]
    }
   ],
   "source": [
    "import heapq\n",
    "\n",
    "class ListNode:\n",
    "    def __init__(self, val=0, next=None):\n",
    "        self.val = val\n",
    "        self.next = next\n",
    "\n",
    "def mergeKLists(lists):\n",
    "    min_heap = []\n",
    "    \n",
    "    # Add the heads of the linked lists to the min-heap\n",
    "    for i in range(len(lists)):\n",
    "        if lists[i]:\n",
    "            heapq.heappush(min_heap, (lists[i].val, i))\n",
    "            lists[i] = lists[i].next\n",
    "    \n",
    "    # Create a dummy node as the head of the merged list\n",
    "    dummy = ListNode()\n",
    "    curr = dummy\n",
    "    \n",
    "    # Merge the linked lists\n",
    "    while min_heap:\n",
    "        val, i = heapq.heappop(min_heap)\n",
    "        curr.next = ListNode(val)\n",
    "        curr = curr.next\n",
    "        \n",
    "        if lists[i]:\n",
    "            heapq.heappush(min_heap, (lists[i].val, i))\n",
    "            lists[i] = lists[i].next\n",
    "    \n",
    "    return dummy.next\n",
    "\n",
    "# Define the linked lists\n",
    "l1 = ListNode(1)\n",
    "l1.next = ListNode(4)\n",
    "l1.next.next = ListNode(5)\n",
    "\n",
    "l2 = ListNode(1)\n",
    "l2.next = ListNode(3)\n",
    "l2.next.next = ListNode(4)\n",
    "\n",
    "l3 = ListNode(2)\n",
    "l3.next = ListNode(6)\n",
    "\n",
    "# Create the lists array\n",
    "lists = [l1, l2, l3]\n",
    "\n",
    "# Merge the linked lists\n",
    "merged_list = mergeKLists(lists)\n",
    "\n",
    "# Print the merged list\n",
    "while merged_list:\n",
    "    print(merged_list.val, end=\"->\")\n",
    "    merged_list = merged_list.next\n"
   ]
  },
  {
   "cell_type": "markdown",
   "id": "89690809",
   "metadata": {},
   "source": [
    "2. **Count of Smaller Numbers After Self**\n",
    "\n",
    "Given an integer array `nums`, return *an integer array* `counts` *where* `counts[i]` *is the number of smaller elements to the right of* `nums[i]`.\n",
    "\n",
    "**Example 1:**\n",
    "Input: nums = [5,2,6,1]\n",
    "Output: [2,1,1,0]\n",
    "Explanation:\n",
    "To the right of 5 there are2 smaller elements (2 and 1).\n",
    "To the right of 2 there is only1 smaller element (1).\n",
    "To the right of 6 there is1 smaller element (1).\n",
    "To the right of 1 there is0 smaller element.\n"
   ]
  },
  {
   "cell_type": "code",
   "execution_count": 2,
   "id": "dac1c253",
   "metadata": {},
   "outputs": [
    {
     "name": "stdout",
     "output_type": "stream",
     "text": [
      "[2, 1, 1, 0]\n"
     ]
    }
   ],
   "source": [
    "def countSmaller(nums):\n",
    "    n = len(nums)\n",
    "    result = [0] * n\n",
    "\n",
    "    def mergeSort(start, end):\n",
    "        if start >= end:\n",
    "            return\n",
    "\n",
    "        mid = (start + end) // 2\n",
    "        mergeSort(start, mid)\n",
    "        mergeSort(mid + 1, end)\n",
    "\n",
    "        i, j = start, mid + 1\n",
    "        merged = []\n",
    "\n",
    "        while i <= mid and j <= end:\n",
    "            if nums[i] > nums[j]:\n",
    "                result[i] += end - j + 1\n",
    "                merged.append(nums[i])\n",
    "                i += 1\n",
    "            else:\n",
    "                merged.append(nums[j])\n",
    "                j += 1\n",
    "\n",
    "        while i <= mid:\n",
    "            merged.append(nums[i])\n",
    "            i += 1\n",
    "\n",
    "        while j <= end:\n",
    "            merged.append(nums[j])\n",
    "            j += 1\n",
    "\n",
    "        nums[start:end + 1] = merged\n",
    "\n",
    "    mergeSort(0, n - 1)\n",
    "    return result\n",
    "\n",
    "nums = [5, 2, 6, 1]\n",
    "result = countSmaller(nums)\n",
    "print(result)\n"
   ]
  },
  {
   "cell_type": "markdown",
   "id": "9ca4c180",
   "metadata": {},
   "source": [
    "3. **Sort an Array**\n",
    "\n",
    "Given an array of integers `nums`, sort the array in ascending order and return it.\n",
    "\n",
    "You must solve the problem **without using any built-in** functions in `O(nlog(n))` time complexity and with the smallest space complexity possible.\n",
    "\n",
    "**Example 1:**\n",
    "\n",
    "Input: nums = [5,2,3,1]\n",
    "Output: [1,2,3,5]\n",
    "Explanation: After sorting the array, the positions of some numbers are not changed (for example, 2 and 3), while the positions of other numbers are changed (for example, 1 and 5).\n"
   ]
  },
  {
   "cell_type": "code",
   "execution_count": 3,
   "id": "53233e6d",
   "metadata": {},
   "outputs": [
    {
     "name": "stdout",
     "output_type": "stream",
     "text": [
      "[1, 2, 3, 5]\n"
     ]
    }
   ],
   "source": [
    "def sortArray(nums):\n",
    "    def merge(nums, start, mid, end):\n",
    "        merged = []\n",
    "        i, j = start, mid + 1\n",
    "\n",
    "        while i <= mid and j <= end:\n",
    "            if nums[i] <= nums[j]:\n",
    "                merged.append(nums[i])\n",
    "                i += 1\n",
    "            else:\n",
    "                merged.append(nums[j])\n",
    "                j += 1\n",
    "\n",
    "        while i <= mid:\n",
    "            merged.append(nums[i])\n",
    "            i += 1\n",
    "\n",
    "        while j <= end:\n",
    "            merged.append(nums[j])\n",
    "            j += 1\n",
    "\n",
    "        nums[start:end + 1] = merged\n",
    "\n",
    "    def mergeSort(nums, start, end):\n",
    "        if start >= end:\n",
    "            return\n",
    "\n",
    "        mid = (start + end) // 2\n",
    "        mergeSort(nums, start, mid)\n",
    "        mergeSort(nums, mid + 1, end)\n",
    "        merge(nums, start, mid, end)\n",
    "\n",
    "    mergeSort(nums, 0, len(nums) - 1)\n",
    "    return nums\n",
    "\n",
    "nums = [5, 2, 3, 1]\n",
    "result = sortArray(nums)\n",
    "print(result)\n"
   ]
  },
  {
   "cell_type": "markdown",
   "id": "38d1c583",
   "metadata": {},
   "source": [
    "4. **Move all zeroes to end of array**\n",
    "\n",
    "Given an array of random numbers, Push all the zero’s of a given array to the end of the array. For example, if the given arrays is {1, 9, 8, 4, 0, 0, 2, 7, 0, 6, 0}, it should be changed to {1, 9, 8, 4, 2, 7, 6, 0, 0, 0, 0}. The order of all other elements should be same. Expected time complexity is O(n) and extra space is O(1).\n",
    "\n",
    "**Example:**\n",
    "Input :  arr[] = {1, 2, 0, 4, 3, 0, 5, 0};\n",
    "Output : arr[] = {1, 2, 4, 3, 5, 0, 0, 0};\n",
    "\n",
    "Input : arr[]  = {1, 2, 0, 0, 0, 3, 6};\n",
    "Output : arr[] = {1, 2, 3, 6, 0, 0, 0};"
   ]
  },
  {
   "cell_type": "code",
   "execution_count": 5,
   "id": "64720fda",
   "metadata": {},
   "outputs": [
    {
     "name": "stdout",
     "output_type": "stream",
     "text": [
      "[1, 2, 4, 3, 5, 0, 0, 0]\n",
      "[1, 2, 3, 6, 0, 0, 0]\n"
     ]
    }
   ],
   "source": [
    "def moveZeroes(arr):\n",
    "    n = len(arr)\n",
    "    i = j = 0\n",
    "\n",
    "    while i < n:\n",
    "        if arr[i] != 0:\n",
    "            arr[i], arr[j] = arr[j], arr[i]\n",
    "            i += 1\n",
    "            j += 1\n",
    "        else:\n",
    "            i += 1\n",
    "\n",
    "    while j < n:\n",
    "        arr[j] = 0\n",
    "        j += 1\n",
    "\n",
    "    return arr\n",
    "\n",
    "arr = [1, 2, 0, 4, 3, 0, 5, 0]\n",
    "result = moveZeroes(arr)\n",
    "print(result)\n",
    "\n",
    "arr = [1, 2, 0, 0, 0, 3, 6]\n",
    "result = moveZeroes(arr)\n",
    "print(result)\n",
    "\n"
   ]
  },
  {
   "cell_type": "markdown",
   "id": "00c7dabc",
   "metadata": {},
   "source": [
    "5. **Rearrange array in alternating positive & negative items with O(1) extra space**\n",
    "\n",
    "Given an **array of positive** and **negative numbers**, arrange them in an **alternate** fashion such that every positive number is followed by a negative and vice-versa maintaining the **order of appearance**. The number of positive and negative numbers need not be equal. If there are more positive numbers they appear at the end of the array. If there are more negative numbers, they too appear at the end of the array.\n",
    "\n",
    "**Examples:**\n",
    "\n",
    "> Input:  arr[] = {1, 2, 3, -4, -1, 4}\n",
    "Output: arr[] = {-4, 1, -1, 2, 3, 4}\n",
    "\n",
    "Input:  arr[] = {-5, -2, 5, 2, 4, 7, 1, 8, 0, -8}\n",
    "Output: arr[] = {-5, 5, -2, 2, -8, 4, 7, 1, 8, 0}\n",
    "> "
   ]
  },
  {
   "cell_type": "code",
   "execution_count": 7,
   "id": "d7f206ae",
   "metadata": {},
   "outputs": [
    {
     "name": "stdout",
     "output_type": "stream",
     "text": [
      "[-4, 2, -1, 1, 3, 4]\n"
     ]
    }
   ],
   "source": [
    "def rearrangeArray(arr):\n",
    "    n = len(arr)\n",
    "    i = 0\n",
    "\n",
    "    while i < n:\n",
    "        if i % 2 == 0 and arr[i] >= 0:\n",
    "            j = i + 1\n",
    "            while j < n and arr[j] >= 0:\n",
    "                j += 1\n",
    "            if j >= n:\n",
    "                break\n",
    "            arr[i], arr[j] = arr[j], arr[i]\n",
    "        elif i % 2 == 1 and arr[i] < 0:\n",
    "            j = i + 1\n",
    "            while j < n and arr[j] < 0:\n",
    "                j += 1\n",
    "            if j >= n:\n",
    "                break\n",
    "            arr[i], arr[j] = arr[j], arr[i]\n",
    "        i += 1\n",
    "\n",
    "    return arr\n",
    "\n",
    "arr = [1, 2, 3, -4, -1, 4]\n",
    "result = rearrangeArray(arr)\n",
    "print(result)\n"
   ]
  },
  {
   "cell_type": "markdown",
   "id": "34b672d6",
   "metadata": {},
   "source": [
    "**6. Merge two sorted arrays**\n",
    "\n",
    "Given two sorted arrays, the task is to merge them in a sorted manner.\n",
    "\n",
    "**Examples:**\n",
    "\n",
    "> Input: arr1[] = { 1, 3, 4, 5}, arr2[] = {2, 4, 6, 8} \n",
    "Output: arr3[] = {1, 2, 3, 4, 4, 5, 6, 8}\n",
    "\n",
    "Input: arr1[] = { 5, 8, 9}, arr2[] = {4, 7, 8}\n",
    "Output: arr3[] = {4, 5, 7, 8, 8, 9}\n",
    "> \n"
   ]
  },
  {
   "cell_type": "code",
   "execution_count": 8,
   "id": "d5254064",
   "metadata": {},
   "outputs": [
    {
     "name": "stdout",
     "output_type": "stream",
     "text": [
      "[1, 2, 3, 4, 4, 5, 6, 8]\n",
      "[4, 5, 7, 8, 8, 9]\n"
     ]
    }
   ],
   "source": [
    "def mergeSortedArrays(arr1, arr2):\n",
    "    i = j = k = 0\n",
    "    merged = []\n",
    "\n",
    "    while i < len(arr1) and j < len(arr2):\n",
    "        if arr1[i] <= arr2[j]:\n",
    "            merged.append(arr1[i])\n",
    "            i += 1\n",
    "        else:\n",
    "            merged.append(arr2[j])\n",
    "            j += 1\n",
    "\n",
    "    while i < len(arr1):\n",
    "        merged.append(arr1[i])\n",
    "        i += 1\n",
    "\n",
    "    while j < len(arr2):\n",
    "        merged.append(arr2[j])\n",
    "        j += 1\n",
    "\n",
    "    return merged\n",
    "\n",
    "arr1 = [1, 3, 4, 5]\n",
    "arr2 = [2, 4, 6, 8]\n",
    "result = mergeSortedArrays(arr1, arr2)\n",
    "print(result)\n",
    "\n",
    "arr1 = [5, 8, 9]\n",
    "arr2 = [4, 7, 8]\n",
    "result = mergeSortedArrays(arr1, arr2)\n",
    "print(result)\n"
   ]
  },
  {
   "cell_type": "markdown",
   "id": "72c7968d",
   "metadata": {},
   "source": [
    "7. **Intersection of Two Arrays**\n",
    "\n",
    "Given two integer arrays `nums1` and `nums2`, return *an array of their intersection*. Each element in the result must be **unique** and you may return the result in **any order**.\n",
    "\n",
    "**Example 1:**\n",
    "\n",
    "Input: nums1 = [1,2,2,1], nums2 = [2,2]\n",
    "Output: [2]\n"
   ]
  },
  {
   "cell_type": "code",
   "execution_count": 9,
   "id": "a6b99e92",
   "metadata": {},
   "outputs": [
    {
     "name": "stdout",
     "output_type": "stream",
     "text": [
      "[2]\n"
     ]
    }
   ],
   "source": [
    "def intersection(nums1, nums2):\n",
    "    set1 = set(nums1)\n",
    "    result = set()\n",
    "\n",
    "    for num in nums2:\n",
    "        if num in set1 and num not in result:\n",
    "            result.add(num)\n",
    "\n",
    "    return list(result)\n",
    "\n",
    "nums1 = [1, 2, 2, 1]\n",
    "nums2 = [2, 2]\n",
    "result = intersection(nums1, nums2)\n",
    "print(result)\n"
   ]
  },
  {
   "cell_type": "markdown",
   "id": "3d56a28a",
   "metadata": {},
   "source": [
    "8. **Intersection of Two Arrays II**\n",
    "\n",
    "Given two integer arrays `nums1` and `nums2`, return *an array of their intersection*. Each element in the result must appear as many times as it shows in both arrays and you may return the result in **any order**.\n",
    "\n",
    "**Example 1:**\n",
    "\n",
    "```\n",
    "Input: nums1 = [1,2,2,1], nums2 = [2,2]\n",
    "Output: [2,2]\n"
   ]
  },
  {
   "cell_type": "code",
   "execution_count": 10,
   "id": "cd4152f4",
   "metadata": {},
   "outputs": [
    {
     "name": "stdout",
     "output_type": "stream",
     "text": [
      "[2, 2]\n"
     ]
    }
   ],
   "source": [
    "def intersect(nums1, nums2):\n",
    "    freq = {}\n",
    "    for num in nums1:\n",
    "        if num in freq:\n",
    "            freq[num] += 1\n",
    "        else:\n",
    "            freq[num] = 1\n",
    "\n",
    "    result = []\n",
    "    for num in nums2:\n",
    "        if num in freq and freq[num] > 0:\n",
    "            result.append(num)\n",
    "            freq[num] -= 1\n",
    "\n",
    "    return result\n",
    "\n",
    "nums1 = [1, 2, 2, 1]\n",
    "nums2 = [2, 2]\n",
    "result = intersect(nums1, nums2)\n",
    "print(result)\n"
   ]
  },
  {
   "cell_type": "code",
   "execution_count": null,
   "id": "6d7c18e2",
   "metadata": {},
   "outputs": [],
   "source": []
  }
 ],
 "metadata": {
  "kernelspec": {
   "display_name": "Python 3 (ipykernel)",
   "language": "python",
   "name": "python3"
  },
  "language_info": {
   "codemirror_mode": {
    "name": "ipython",
    "version": 3
   },
   "file_extension": ".py",
   "mimetype": "text/x-python",
   "name": "python",
   "nbconvert_exporter": "python",
   "pygments_lexer": "ipython3",
   "version": "3.10.9"
  }
 },
 "nbformat": 4,
 "nbformat_minor": 5
}
