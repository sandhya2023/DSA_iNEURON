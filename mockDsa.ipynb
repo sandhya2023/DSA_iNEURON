{
 "cells": [
  {
   "cell_type": "code",
   "execution_count": null,
   "id": "acb93cf0-ee5f-4f3f-8aac-db5628ff8cb0",
   "metadata": {},
   "outputs": [],
   "source": [
    "Q1. Given an integer array nums, move all 0's to the end of it while maintaining the relative order of the non-zero elements."
   ]
  },
  {
   "cell_type": "code",
   "execution_count": 4,
   "id": "1f552616-f418-426f-ad75-e90c150517db",
   "metadata": {},
   "outputs": [
    {
     "name": "stdin",
     "output_type": "stream",
     "text": [
      "Enter the integer array (space-separated):  0 1 0 3 12\n"
     ]
    },
    {
     "name": "stdout",
     "output_type": "stream",
     "text": [
      "Modified array: [1, 3, 12, 0, 0]\n"
     ]
    }
   ],
   "source": [
    "def moveZeroes(nums):\n",
    "    left = 0\n",
    "    right = 0\n",
    "    while right < len(nums):\n",
    "        if nums[right] != 0:\n",
    "            nums[left], nums[right] = nums[right], nums[left]\n",
    "            left += 1\n",
    "        right += 1\n",
    "input_str = input(\"Enter the integer array (space-separated): \")\n",
    "nums = list(map(int, input_str.split()))\n",
    "moveZeroes(nums)\n",
    "print(\"Modified array:\", nums)"
   ]
  },
  {
   "cell_type": "code",
   "execution_count": null,
   "id": "bc957dd4-9285-4b61-b22c-5b9420bc3d2b",
   "metadata": {},
   "outputs": [],
   "source": [
    "Q2.Given a string s, find the first non-repeating character in it and return its index. If it does not exist, return -1."
   ]
  },
  {
   "cell_type": "code",
   "execution_count": 6,
   "id": "4c684e2b-8f5b-41a7-8cf6-8303056be853",
   "metadata": {},
   "outputs": [
    {
     "name": "stdin",
     "output_type": "stream",
     "text": [
      "Enter the string:  leetcode\n"
     ]
    },
    {
     "name": "stdout",
     "output_type": "stream",
     "text": [
      "Index of the first non-repeating character: 0\n"
     ]
    }
   ],
   "source": [
    "def firstUniqChar(s):\n",
    "    char_count = {}\n",
    "    for char in s:\n",
    "        char_count[char] = char_count.get(char, 0) + 1\n",
    "    for i in range(len(s)):\n",
    "        if char_count[s[i]] == 1:\n",
    "            return i\n",
    "    return -1\n",
    "s = input(\"Enter the string: \")\n",
    "result = firstUniqChar(s)\n",
    "print(\"Index of the first non-repeating character:\", result)"
   ]
  },
  {
   "cell_type": "code",
   "execution_count": null,
   "id": "dd011110-ee92-4054-8d61-41e602f47e69",
   "metadata": {},
   "outputs": [],
   "source": []
  }
 ],
 "metadata": {
  "kernelspec": {
   "display_name": "Python 3 (ipykernel)",
   "language": "python",
   "name": "python3"
  },
  "language_info": {
   "codemirror_mode": {
    "name": "ipython",
    "version": 3
   },
   "file_extension": ".py",
   "mimetype": "text/x-python",
   "name": "python",
   "nbconvert_exporter": "python",
   "pygments_lexer": "ipython3",
   "version": "3.10.6"
  }
 },
 "nbformat": 4,
 "nbformat_minor": 5
}
