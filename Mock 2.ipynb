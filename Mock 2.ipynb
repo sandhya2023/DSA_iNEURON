{
 "cells": [
  {
   "cell_type": "code",
   "execution_count": null,
   "id": "1c17f190",
   "metadata": {},
   "outputs": [],
   "source": [
    "Q1. Given a non-negative integer x, return the square root of x rounded down to the nearest integer. \n",
    "The returned integer should be non-negative as well. You must not use any built-in exponent function or operator. "
   ]
  },
  {
   "cell_type": "code",
   "execution_count": 1,
   "id": "75565525",
   "metadata": {},
   "outputs": [
    {
     "name": "stdout",
     "output_type": "stream",
     "text": [
      "Enter a number: 4\n",
      "low: 0, high: 4, mid: 2\n",
      "low: 3, high: 4, mid: 3\n",
      "The square root of 4 is 2\n"
     ]
    }
   ],
   "source": [
    "def square_root(x):\n",
    "    low = 0\n",
    "    high = x\n",
    "    while low < high:\n",
    "        mid = (low + high) // 2\n",
    "        print(f\"low: {low}, high: {high}, mid: {mid}\")\n",
    "        if mid * mid <= x:\n",
    "            low = mid + 1\n",
    "        else:\n",
    "            high = mid\n",
    "    return low - 1\n",
    "\n",
    "\n",
    "x = int(input(\"Enter a number: \"))\n",
    "print(f\"The square root of {x} is {square_root(x)}\")\n"
   ]
  },
  {
   "cell_type": "code",
   "execution_count": null,
   "id": "ad0f46ea",
   "metadata": {},
   "outputs": [],
   "source": [
    "Q2.You are given two non-empty linked lists representing two non-negative integers. The digits are stored in reverse order, and each of their nodes contains a single digit. Add the two numbers and return the sum as a linked list.\n",
    "\n",
    "You may assume the two numbers do not contain any leading zero, except the number 0 itself."
   ]
  },
  {
   "cell_type": "code",
   "execution_count": 6,
   "id": "4d72578e",
   "metadata": {},
   "outputs": [
    {
     "name": "stdout",
     "output_type": "stream",
     "text": [
      "Enter the values for the first linked list in reverse order (separated by comma): 2,4,3\n",
      "Enter the values for the second linked list in reverse order (separated by comma): 5,6,4\n",
      "7 0 8 "
     ]
    }
   ],
   "source": [
    "class ListNode:\n",
    "    def __init__(self, val=0, next=None):\n",
    "        self.val = val\n",
    "        self.next = next\n",
    "\n",
    "# Function to add two numbers represented as linked lists\n",
    "def addTwoNumbers(l1, l2):\n",
    "    dummy = ListNode(0)\n",
    "    curr = dummy\n",
    "    carry = 0\n",
    "\n",
    "    while l1 or l2 or carry:\n",
    "        if l1:\n",
    "            carry += l1.val\n",
    "            l1 = l1.next\n",
    "        if l2:\n",
    "            carry += l2.val\n",
    "            l2 = l2.next\n",
    "\n",
    "        curr.next = ListNode(carry % 10)\n",
    "        carry //= 10\n",
    "        curr = curr.next\n",
    "\n",
    "    return dummy.next\n",
    "\n",
    "# user to enter the values for the first linked list\n",
    "\n",
    "l1_values = input(\"Enter the values for the first linked list in reverse order (separated by comma): \").split(',')\n",
    "l1 = ListNode(int(l1_values[0]))\n",
    "current_node = l1\n",
    "for val in l1_values[1:]:\n",
    "    current_node.next = ListNode(int(val))\n",
    "    current_node = current_node.next\n",
    "\n",
    "# user to enter the values for the second linked list\n",
    "l2_values = input(\"Enter the values for the second linked list in reverse order (separated by comma): \").split(',')\n",
    "l2 = ListNode(int(l2_values[0]))\n",
    "current_node = l2\n",
    "for val in l2_values[1:]:\n",
    "    current_node.next = ListNode(int(val))\n",
    "    current_node = current_node.next\n",
    "\n",
    "# Call the function to add the two numbers\n",
    "result = addTwoNumbers(l1, l2)\n",
    "\n",
    "# Print the resulting linked list\n",
    "while result:\n",
    "    print(result.val, end=\" \")\n",
    "    result = result.next"
   ]
  },
  {
   "cell_type": "code",
   "execution_count": null,
   "id": "07c9218b",
   "metadata": {},
   "outputs": [],
   "source": []
  },
  {
   "cell_type": "code",
   "execution_count": null,
   "id": "c29a6b10",
   "metadata": {},
   "outputs": [],
   "source": []
  }
 ],
 "metadata": {
  "kernelspec": {
   "display_name": "Python 3 (ipykernel)",
   "language": "python",
   "name": "python3"
  },
  "language_info": {
   "codemirror_mode": {
    "name": "ipython",
    "version": 3
   },
   "file_extension": ".py",
   "mimetype": "text/x-python",
   "name": "python",
   "nbconvert_exporter": "python",
   "pygments_lexer": "ipython3",
   "version": "3.9.12"
  }
 },
 "nbformat": 4,
 "nbformat_minor": 5
}
