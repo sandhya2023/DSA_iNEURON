{
 "cells": [
  {
   "cell_type": "markdown",
   "id": "92711a32",
   "metadata": {},
   "source": [
    "# **Question 1**\n",
    "\n",
    "\n",
    "Given an integer array nums of 2n integers, group these integers into n pairs (a1, b1), (a2, b2),..., (an, bn) such that the sum of min(ai, bi) for all i is maximized. Return the maximized sum.\n",
    "\n",
    "**Example 1:**\n",
    "Input: nums = [1,4,3,2]\n",
    "Output: 4\n",
    "\n",
    "**Explanation:** All possible pairings (ignoring the ordering of elements) are:\n",
    "\n",
    "1. (1, 4), (2, 3) -> min(1, 4) + min(2, 3) = 1 + 2 = 3\n",
    "2. (1, 3), (2, 4) -> min(1, 3) + min(2, 4) = 1 + 2 = 3\n",
    "3. (1, 2), (3, 4) -> min(1, 2) + min(3, 4) = 1 + 3 = 4\n",
    "So the maximum possible sum is 4\n",
    "</aside>"
   ]
  },
  {
   "cell_type": "code",
   "execution_count": 1,
   "id": "86a77829",
   "metadata": {},
   "outputs": [
    {
     "data": {
      "text/plain": [
       "4"
      ]
     },
     "execution_count": 1,
     "metadata": {},
     "output_type": "execute_result"
    }
   ],
   "source": [
    "def arrayPairSum(nums):\n",
    "        nums.sort()\n",
    "        ans = 0\n",
    "        for i in range(0,len(nums),2):\n",
    "            ans += nums[i]\n",
    "        return ans\n",
    "arrayPairSum([1,4,3,2])"
   ]
  },
  {
   "cell_type": "markdown",
   "id": "ee92dd46",
   "metadata": {},
   "source": [
    "# Question 2\n",
    "\n",
    "\n",
    "Alice has n candies, where the ith candy is of type candyType[i]. Alice noticed that she started to gain weight, so she visited a doctor. \n",
    "\n",
    "The doctor advised Alice to only eat n / 2 of the candies she has (n is always even). Alice likes her candies very much, and she wants to eat the maximum number of different types of candies while still following the doctor's advice. \n",
    "\n",
    "Given the integer array candyType of length n, return the maximum number of different types of candies she can eat if she only eats n / 2 of them.\n",
    "\n",
    "Example 1:\n",
    "Input: candyType = [1,1,2,2,3,3]\n",
    "Output: 3\n",
    "\n",
    "Explanation: Alice can only eat 6 / 2 = 3 candies. Since there are only 3 types, she can eat one of each type."
   ]
  },
  {
   "cell_type": "code",
   "execution_count": 5,
   "id": "09ecadb4",
   "metadata": {},
   "outputs": [
    {
     "data": {
      "text/plain": [
       "3"
      ]
     },
     "execution_count": 5,
     "metadata": {},
     "output_type": "execute_result"
    }
   ],
   "source": [
    "# time and space complexity O(n)\n",
    "def distributeCandies(candyType):\n",
    "        uniquecandies = len(set(candyType))\n",
    "        n = len(candyType)\n",
    "        return min(uniquecandies,n//2)\n",
    "distributeCandies([1,1,2,2,3,3])"
   ]
  },
  {
   "cell_type": "markdown",
   "id": "dec9ca4b",
   "metadata": {},
   "source": [
    "# Question 3\n",
    "\n",
    "\n",
    "We define a harmonious array as an array where the difference between its maximum value\n",
    "and its minimum value is exactly 1.\n",
    "\n",
    "Given an integer array nums, return the length of its longest harmonious subsequence\n",
    "among all its possible subsequences.\n",
    "\n",
    "A subsequence of an array is a sequence that can be derived from the array by deleting some or no elements without changing the order of the remaining elements.\n",
    "\n",
    "Example 1:\n",
    "Input: nums = [1,3,2,2,5,2,3,7]\n",
    "Output: 5\n",
    "\n",
    "Explanation: The longest harmonious subsequence is [3,2,2,2,3]."
   ]
  },
  {
   "cell_type": "code",
   "execution_count": 16,
   "id": "42a9140d",
   "metadata": {},
   "outputs": [
    {
     "data": {
      "text/plain": [
       "5"
      ]
     },
     "execution_count": 16,
     "metadata": {},
     "output_type": "execute_result"
    }
   ],
   "source": [
    "def findLHS(nums):\n",
    "    Map = {}\n",
    "    count = 0\n",
    "    # making count of nums\n",
    "    for i in range(len(nums)):\n",
    "        if nums[i] not in Map:\n",
    "            Map[nums[i]] = 1\n",
    "        else:\n",
    "            Map[nums[i]] += 1\n",
    "    if len(Map) <= 1:\n",
    "        return 0\n",
    "    for key in Map:\n",
    "        if key+1 in Map:\n",
    "            count = max(count, Map[key]+Map[key+1])\n",
    "    return count\n",
    "\n",
    "findLHS([1,3,2,2,5,2,3,7])"
   ]
  },
  {
   "cell_type": "markdown",
   "id": "4afafdc3",
   "metadata": {},
   "source": [
    "# Question 4\n",
    "\n",
    "\n",
    "You have a long flowerbed in which some of the plots are planted, and some are not.\n",
    "However, flowers cannot be planted in adjacent plots.\n",
    "Given an integer array flowerbed containing 0's and 1's, where 0 means empty and 1 means not empty, and an integer n, return true if n new flowers can be planted in the flowerbed without violating the no-adjacent-flowers rule and false otherwise.\n",
    "\n",
    "Example 1:\n",
    "Input: flowerbed = [1,0,0,0,1], n = 1\n",
    "Output: true\n",
    "example -2\n",
    "flowerbed = [1,0,0,0,1], n = 2"
   ]
  },
  {
   "cell_type": "code",
   "execution_count": 27,
   "id": "e4545a16",
   "metadata": {},
   "outputs": [
    {
     "data": {
      "text/plain": [
       "False"
      ]
     },
     "execution_count": 27,
     "metadata": {},
     "output_type": "execute_result"
    }
   ],
   "source": [
    "def canPlaceFlowers(flowerbed, n):\n",
    "    f = [0] + flowerbed + [0]\n",
    "    for i in range(1,len(f)-1):\n",
    "        if f[i] == 0 and f[i-1] ==0 and f[i+1] == 0:\n",
    "            f[i] = 1\n",
    "            n -= 1\n",
    "    return n<=0\n",
    "\n",
    "canPlaceFlowers([1,0,0,0,1],1)\n",
    "canPlaceFlowers([0,0,0,1],2)"
   ]
  },
  {
   "cell_type": "markdown",
   "id": "919642e6",
   "metadata": {},
   "source": [
    "# Question 5\n",
    "\n",
    "Given an integer array nums, find three numbers whose product is maximum and return the maximum product.\n",
    "\n",
    "Example 1:\n",
    "Input: nums = [1,2,3]\n",
    "Output: 6"
   ]
  },
  {
   "cell_type": "code",
   "execution_count": 11,
   "id": "62b7f15a",
   "metadata": {},
   "outputs": [
    {
     "data": {
      "text/plain": [
       "3"
      ]
     },
     "execution_count": 11,
     "metadata": {},
     "output_type": "execute_result"
    }
   ],
   "source": [
    "def maxProduct(nums):\n",
    "    if not nums:\n",
    "        return 0\n",
    "    res = max_p = min_p = nums[0]\n",
    "    for i in nums[1:]:\n",
    "        max_p = max(max_p * i, min_p * i,i)\n",
    "        min_p = min(max_p * i, min_p * i, i)\n",
    "        res = max(max_p,min_p)\n",
    "    return res\n",
    "maxProduct([1,2,3])\n",
    "\n",
    "maxProduct( [-2,0,-1,-3])\n",
    "        "
   ]
  },
  {
   "cell_type": "markdown",
   "id": "d1b81189",
   "metadata": {},
   "source": [
    "# Question 6\n",
    "\n",
    "Given an array of integers nums which is sorted in ascending order, and an integer target,\n",
    "write a function to search target in nums. If target exists, then return its index. Otherwise,\n",
    "return -1.\n",
    "\n",
    "You must write an algorithm with O(log n) runtime complexity.\n",
    "\n",
    "Input: nums = [-1,0,3,5,9,12], target = 9\n",
    "Output: 4\n",
    "\n",
    "Explanation: 9 exists in nums and its index is 4"
   ]
  },
  {
   "cell_type": "code",
   "execution_count": 4,
   "id": "2d18430b",
   "metadata": {},
   "outputs": [
    {
     "data": {
      "text/plain": [
       "-1"
      ]
     },
     "execution_count": 4,
     "metadata": {},
     "output_type": "execute_result"
    }
   ],
   "source": [
    "def searchInsert(nums, target):\n",
    "        l = 0\n",
    "        r = len(nums)-1\n",
    "        \n",
    "        while l <= r:\n",
    "            m = (l+r)//2\n",
    "            if target == nums[m]:\n",
    "                return m\n",
    "            if target > nums[m]:\n",
    "                l = m+1\n",
    "                \n",
    "            else:\n",
    "                r = m-1\n",
    "        return -1\n",
    "searchInsert([1,3,5,6], 7)"
   ]
  },
  {
   "cell_type": "markdown",
   "id": "ac62ca97",
   "metadata": {},
   "source": [
    "# Question 7\n",
    "\n",
    "An array is monotonic if it is either monotone increasing or monotone decreasing.\n",
    "\n",
    "An array nums is monotone increasing if for all i <= j, nums[i] <= nums[j]. An array nums is\n",
    "monotone decreasing if for all i <= j, nums[i] >= nums[j].\n",
    "\n",
    "Given an integer array nums, return true if the given array is monotonic, or false otherwise.\n",
    "\n",
    "Example 1:\n",
    "Input: nums = [1,2,2,3]\n",
    "Output: true"
   ]
  },
  {
   "cell_type": "code",
   "execution_count": 2,
   "id": "54366473",
   "metadata": {},
   "outputs": [
    {
     "data": {
      "text/plain": [
       "False"
      ]
     },
     "execution_count": 2,
     "metadata": {},
     "output_type": "execute_result"
    }
   ],
   "source": [
    "def isMonotonic(nums):\n",
    "        increasing = decreasing = True\n",
    "        for i in range(len(nums)-1):\n",
    "            if nums[i] < nums[i+1]:\n",
    "                decreasing = False\n",
    "            if nums[i] > nums[i+1]:\n",
    "                increasing = False\n",
    "        return increasing or decreasing\n",
    "    \n",
    "isMonotonic([1,2,2,3])\n",
    "isMonotonic([1,3,2])"
   ]
  },
  {
   "cell_type": "markdown",
   "id": "8516dfbc",
   "metadata": {},
   "source": [
    "# Question 8\n",
    "\n",
    "You are given an integer array nums and an integer k.\n",
    "\n",
    "In one operation, you can choose any index i where 0 <= i < nums.length and change nums[i] to nums[i] + x where x is an integer from the range [-k, k]. You can apply this operation at most once for each index i.\n",
    "\n",
    "The score of nums is the difference between the maximum and minimum elements in nums.\n",
    "\n",
    "Return the minimum score of nums after applying the mentioned operation at most once for each index in it.\n",
    "\n",
    "Example 1:\n",
    "Input: nums = [1], k = 0\n",
    "Output: 0\n",
    "\n",
    "Explanation: The score is max(nums) - min(nums) = 1 - 1 = 0."
   ]
  },
  {
   "cell_type": "code",
   "execution_count": 14,
   "id": "7f3f0c79",
   "metadata": {},
   "outputs": [
    {
     "data": {
      "text/plain": [
       "6"
      ]
     },
     "execution_count": 14,
     "metadata": {},
     "output_type": "execute_result"
    }
   ],
   "source": [
    "# intuition behind is -we have to reduce the max and min difference -> so for that increase min by k and decrease max by k\n",
    "# corner condition -> if min> max then return 0\n",
    "def smallestRangeI(nums,k):\n",
    "    max_num = max(nums) - k\n",
    "    min_num = min(nums) + k\n",
    "    if min_num > max_num:\n",
    "        return 0\n",
    "    else:\n",
    "        return (max_num-min_num)\n",
    "smallestRangeI([1],0)\n",
    "smallestRangeI([0,10],2)"
   ]
  },
  {
   "cell_type": "code",
   "execution_count": null,
   "id": "c1536e2b",
   "metadata": {},
   "outputs": [],
   "source": []
  }
 ],
 "metadata": {
  "kernelspec": {
   "display_name": "Python 3 (ipykernel)",
   "language": "python",
   "name": "python3"
  },
  "language_info": {
   "codemirror_mode": {
    "name": "ipython",
    "version": 3
   },
   "file_extension": ".py",
   "mimetype": "text/x-python",
   "name": "python",
   "nbconvert_exporter": "python",
   "pygments_lexer": "ipython3",
   "version": "3.9.12"
  }
 },
 "nbformat": 4,
 "nbformat_minor": 5
}
